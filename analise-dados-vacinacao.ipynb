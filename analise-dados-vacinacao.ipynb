{
 "cells": [
  {
   "cell_type": "code",
   "execution_count": 2,
   "metadata": {},
   "outputs": [],
   "source": [
    "import pandas as pd"
   ]
  },
  {
   "cell_type": "code",
   "execution_count": 22,
   "metadata": {},
   "outputs": [
    {
     "name": "stderr",
     "output_type": "stream",
     "text": [
      "C:\\Users\\User3\\AppData\\Local\\Temp\\ipykernel_23360\\1113547414.py:2: DtypeWarning: Columns (1) have mixed types. Specify dtype option on import or set low_memory=False.\n",
      "  tabela = pd.read_csv(url, sep=';', encoding='utf-8')\n"
     ]
    }
   ],
   "source": [
    "url = 'http://dados.recife.pe.gov.br/dataset/7ccb3816-0d62-49e1-b39a-3159870883b0/resource/99b42b09-95af-47de-8411-ab99c380c3ef/download/vacinados.csv'\n",
    "tabela = pd.read_csv(url, sep=';', encoding='utf-8')"
   ]
  },
  {
   "cell_type": "code",
   "execution_count": 23,
   "metadata": {},
   "outputs": [
    {
     "data": {
      "text/plain": [
       "faixa_etaria          True\n",
       "idade                 True\n",
       "sexo                  True\n",
       "raca_cor              True\n",
       "municipio             True\n",
       "grupo                False\n",
       "categoria             True\n",
       "lote                  True\n",
       "vacina_fabricante     True\n",
       "descricao_dose        True\n",
       "cnes                  True\n",
       "sistema_origem        True\n",
       "data_vacinacao        True\n",
       "dtype: bool"
      ]
     },
     "execution_count": 23,
     "metadata": {},
     "output_type": "execute_result"
    }
   ],
   "source": [
    "tabela_empty = tabela.isna().any()\n",
    "tabela_empty"
   ]
  },
  {
   "cell_type": "code",
   "execution_count": 24,
   "metadata": {},
   "outputs": [
    {
     "data": {
      "text/plain": [
       "faixa_etaria              74\n",
       "idade                      6\n",
       "sexo                     252\n",
       "raca_cor                 442\n",
       "municipio               1573\n",
       "grupo                      0\n",
       "categoria            1028992\n",
       "lote                     293\n",
       "vacina_fabricante        280\n",
       "descricao_dose           280\n",
       "cnes                     280\n",
       "sistema_origem           280\n",
       "data_vacinacao           280\n",
       "dtype: int64"
      ]
     },
     "execution_count": 24,
     "metadata": {},
     "output_type": "execute_result"
    }
   ],
   "source": [
    "tabela_empty= tabela.isna().sum()\n",
    "tabela_empty"
   ]
  },
  {
   "cell_type": "code",
   "execution_count": 25,
   "metadata": {},
   "outputs": [
    {
     "data": {
      "text/plain": [
       "faixa_etaria              68\n",
       "idade                      0\n",
       "sexo                     252\n",
       "raca_cor                 442\n",
       "municipio               1572\n",
       "grupo                      0\n",
       "categoria            1028989\n",
       "lote                     293\n",
       "vacina_fabricante        280\n",
       "descricao_dose           280\n",
       "cnes                     280\n",
       "sistema_origem           280\n",
       "data_vacinacao           280\n",
       "dtype: int64"
      ]
     },
     "execution_count": 25,
     "metadata": {},
     "output_type": "execute_result"
    }
   ],
   "source": [
    "tabela = tabela.dropna(subset=['idade'])\n",
    "tabela_empty = tabela.isna().sum()\n",
    "tabela_empty"
   ]
  },
  {
   "cell_type": "code",
   "execution_count": 26,
   "metadata": {},
   "outputs": [
    {
     "data": {
      "text/plain": [
       "Index(['faixa_etaria', 'idade', 'sexo', 'raca_cor', 'municipio', 'grupo',\n",
       "       'categoria', 'lote', 'vacina_fabricante', 'descricao_dose', 'cnes',\n",
       "       'sistema_origem', 'data_vacinacao'],\n",
       "      dtype='object')"
      ]
     },
     "execution_count": 26,
     "metadata": {},
     "output_type": "execute_result"
    }
   ],
   "source": [
    "tabela.columns"
   ]
  },
  {
   "cell_type": "code",
   "execution_count": 27,
   "metadata": {},
   "outputs": [
    {
     "data": {
      "text/html": [
       "<div>\n",
       "<style scoped>\n",
       "    .dataframe tbody tr th:only-of-type {\n",
       "        vertical-align: middle;\n",
       "    }\n",
       "\n",
       "    .dataframe tbody tr th {\n",
       "        vertical-align: top;\n",
       "    }\n",
       "\n",
       "    .dataframe thead th {\n",
       "        text-align: right;\n",
       "    }\n",
       "</style>\n",
       "<table border=\"1\" class=\"dataframe\">\n",
       "  <thead>\n",
       "    <tr style=\"text-align: right;\">\n",
       "      <th></th>\n",
       "      <th>faixa_etaria</th>\n",
       "      <th>idade</th>\n",
       "      <th>sexo</th>\n",
       "      <th>raca_cor</th>\n",
       "      <th>municipio</th>\n",
       "      <th>grupo</th>\n",
       "      <th>categoria</th>\n",
       "      <th>lote</th>\n",
       "      <th>vacina_fabricante</th>\n",
       "      <th>descricao_dose</th>\n",
       "      <th>cnes</th>\n",
       "      <th>sistema_origem</th>\n",
       "      <th>data_vacinacao</th>\n",
       "    </tr>\n",
       "  </thead>\n",
       "  <tbody>\n",
       "    <tr>\n",
       "      <th>0</th>\n",
       "      <td>30 a 34 anos</td>\n",
       "      <td>32</td>\n",
       "      <td>FEMININO</td>\n",
       "      <td>PARDA</td>\n",
       "      <td>OLINDA</td>\n",
       "      <td>TRABALHADORES DA SAÚDE</td>\n",
       "      <td>OUTROS</td>\n",
       "      <td>FF8842</td>\n",
       "      <td>3 - COMIRNATY (PFIZER)</td>\n",
       "      <td>1.0</td>\n",
       "      <td>DS 2: CNES: 6897029 - POLICLÍNICA SALOMÃO KELNER</td>\n",
       "      <td>NÃO</td>\n",
       "      <td>2021-10-07 00:00:00.0</td>\n",
       "    </tr>\n",
       "    <tr>\n",
       "      <th>1</th>\n",
       "      <td>35 a 39 anos</td>\n",
       "      <td>39</td>\n",
       "      <td>FEMININO</td>\n",
       "      <td>PARDA</td>\n",
       "      <td>IGARASSU</td>\n",
       "      <td>PÚBLICO EM GERAL (18 a 59 anos)</td>\n",
       "      <td>OUTROS</td>\n",
       "      <td>FD7210</td>\n",
       "      <td>3 - COMIRNATY (PFIZER)</td>\n",
       "      <td>1.0</td>\n",
       "      <td>DS 6: CNES: 0001392 - MIGUEL DE LIMA VALVERDE.</td>\n",
       "      <td>Conecta Recife</td>\n",
       "      <td>2021-09-01 00:00:00.0</td>\n",
       "    </tr>\n",
       "    <tr>\n",
       "      <th>2</th>\n",
       "      <td>40 a 44 anos</td>\n",
       "      <td>40</td>\n",
       "      <td>FEMININO</td>\n",
       "      <td>PARDA</td>\n",
       "      <td>IGARASSU</td>\n",
       "      <td>PÚBLICO EM GERAL (18 a 59 anos)</td>\n",
       "      <td>OUTROS</td>\n",
       "      <td>FH8023</td>\n",
       "      <td>3 - COMIRNATY (PFIZER)</td>\n",
       "      <td>2.0</td>\n",
       "      <td>DS 8: CNES: 0001198 - UBT ARISTARCHO DE AZEVEDO</td>\n",
       "      <td>NÃO</td>\n",
       "      <td>2021-10-31 00:00:00.0</td>\n",
       "    </tr>\n",
       "    <tr>\n",
       "      <th>3</th>\n",
       "      <td>25 a 29 anos</td>\n",
       "      <td>25</td>\n",
       "      <td>MASCULINO</td>\n",
       "      <td>BRANCA</td>\n",
       "      <td>RECIFE</td>\n",
       "      <td>SESAU - BUSCA ATIVA</td>\n",
       "      <td>PÚBLICO EM GERAL - 18 A 59 ANOS</td>\n",
       "      <td>FH4751</td>\n",
       "      <td>3 - COMIRNATY (PFIZER)</td>\n",
       "      <td>2.0</td>\n",
       "      <td>DS 2: CNES: 6897029 - POLICLÍNICA SALOMÃO KELNER</td>\n",
       "      <td>NÃO</td>\n",
       "      <td>2021-11-29 00:00:00.0</td>\n",
       "    </tr>\n",
       "    <tr>\n",
       "      <th>4</th>\n",
       "      <td>60 a 64 anos</td>\n",
       "      <td>61</td>\n",
       "      <td>FEMININO</td>\n",
       "      <td>BRANCA</td>\n",
       "      <td>RECIFE</td>\n",
       "      <td>IDOSOS</td>\n",
       "      <td>OUTRAS</td>\n",
       "      <td>FM3802</td>\n",
       "      <td>3 - COMIRNATY (PFIZER)</td>\n",
       "      <td>3.0</td>\n",
       "      <td>DS 6: CNES: 0001392 - MIGUEL DE LIMA VALVERDE.</td>\n",
       "      <td>Conecta Recife</td>\n",
       "      <td>2021-12-30 00:00:00.0</td>\n",
       "    </tr>\n",
       "  </tbody>\n",
       "</table>\n",
       "</div>"
      ],
      "text/plain": [
       "   faixa_etaria idade       sexo raca_cor municipio  \\\n",
       "0  30 a 34 anos    32   FEMININO    PARDA    OLINDA   \n",
       "1  35 a 39 anos    39   FEMININO    PARDA  IGARASSU   \n",
       "2  40 a 44 anos    40   FEMININO    PARDA  IGARASSU   \n",
       "3  25 a 29 anos    25  MASCULINO   BRANCA    RECIFE   \n",
       "4  60 a 64 anos    61   FEMININO   BRANCA    RECIFE   \n",
       "\n",
       "                             grupo                        categoria    lote  \\\n",
       "0           TRABALHADORES DA SAÚDE                           OUTROS  FF8842   \n",
       "1  PÚBLICO EM GERAL (18 a 59 anos)                           OUTROS  FD7210   \n",
       "2  PÚBLICO EM GERAL (18 a 59 anos)                           OUTROS  FH8023   \n",
       "3              SESAU - BUSCA ATIVA  PÚBLICO EM GERAL - 18 A 59 ANOS  FH4751   \n",
       "4                           IDOSOS                           OUTRAS  FM3802   \n",
       "\n",
       "        vacina_fabricante  descricao_dose  \\\n",
       "0  3 - COMIRNATY (PFIZER)             1.0   \n",
       "1  3 - COMIRNATY (PFIZER)             1.0   \n",
       "2  3 - COMIRNATY (PFIZER)             2.0   \n",
       "3  3 - COMIRNATY (PFIZER)             2.0   \n",
       "4  3 - COMIRNATY (PFIZER)             3.0   \n",
       "\n",
       "                                                cnes  sistema_origem  \\\n",
       "0  DS 2: CNES: 6897029 - POLICLÍNICA SALOMÃO KELNER              NÃO   \n",
       "1     DS 6: CNES: 0001392 - MIGUEL DE LIMA VALVERDE.  Conecta Recife   \n",
       "2    DS 8: CNES: 0001198 - UBT ARISTARCHO DE AZEVEDO             NÃO   \n",
       "3  DS 2: CNES: 6897029 - POLICLÍNICA SALOMÃO KELNER              NÃO   \n",
       "4     DS 6: CNES: 0001392 - MIGUEL DE LIMA VALVERDE.  Conecta Recife   \n",
       "\n",
       "          data_vacinacao  \n",
       "0  2021-10-07 00:00:00.0  \n",
       "1  2021-09-01 00:00:00.0  \n",
       "2  2021-10-31 00:00:00.0  \n",
       "3  2021-11-29 00:00:00.0  \n",
       "4  2021-12-30 00:00:00.0  "
      ]
     },
     "execution_count": 27,
     "metadata": {},
     "output_type": "execute_result"
    }
   ],
   "source": [
    "tabela.head(5)"
   ]
  },
  {
   "cell_type": "code",
   "execution_count": 29,
   "metadata": {},
   "outputs": [
    {
     "name": "stdout",
     "output_type": "stream",
     "text": [
      "Quantidade de pessoas vacinadas:  3041492\n"
     ]
    }
   ],
   "source": [
    "print(f\"Quantidade de pessoas vacinadas: \", len(tabela))"
   ]
  },
  {
   "cell_type": "markdown",
   "metadata": {},
   "source": [
    "## Municipio com mais dose de vacinas Coronavac:"
   ]
  },
  {
   "cell_type": "code",
   "execution_count": 41,
   "metadata": {},
   "outputs": [
    {
     "data": {
      "text/plain": [
       "vacina_fabricante                                \n",
       "3 - COMIRNATY (PFIZER)                               1171262\n",
       "2 - CHADOX1NCOV-19 - OXFORD/ASTRAZENECA (FIOCRUZ)    1029636\n",
       "1 - CORONAVAC - SINOVAC (BUTANTAN)                    761380\n",
       "4 - JANSSEN COVID-19 VACCINE (JOHNSON & JOHNSON)       78934\n",
       "Name: count, dtype: int64"
      ]
     },
     "execution_count": 41,
     "metadata": {},
     "output_type": "execute_result"
    }
   ],
   "source": [
    "tabela[['vacina_fabricante']].value_counts()"
   ]
  },
  {
   "cell_type": "code",
   "execution_count": 48,
   "metadata": {},
   "outputs": [
    {
     "ename": "KeyError",
     "evalue": "'Columns not found: False'",
     "output_type": "error",
     "traceback": [
      "\u001b[1;31m---------------------------------------------------------------------------\u001b[0m",
      "\u001b[1;31mKeyError\u001b[0m                                  Traceback (most recent call last)",
      "\u001b[1;32mc:\\Users\\User3\\OneDrive\\Workspace\\Cesar School\\Python\\Desafio 2\\analise-dados-vacinacao.ipynb Cell 11\u001b[0m line \u001b[0;36m1\n\u001b[1;32m----> <a href='vscode-notebook-cell:/c%3A/Users/User3/OneDrive/Workspace/Cesar%20School/Python/Desafio%202/analise-dados-vacinacao.ipynb#X43sZmlsZQ%3D%3D?line=0'>1</a>\u001b[0m dfSinovac \u001b[39m=\u001b[39m tabela\u001b[39m.\u001b[39;49mgroupby(\u001b[39m'\u001b[39;49m\u001b[39mmunicipio\u001b[39;49m\u001b[39m'\u001b[39;49m)[[\u001b[39m'\u001b[39;49m\u001b[39mvacina_fabricante\u001b[39;49m\u001b[39m'\u001b[39;49m \u001b[39m==\u001b[39;49m \u001b[39m'\u001b[39;49m\u001b[39m1 - CORONAVAC - SINOVAC (BUTANTAN)\u001b[39;49m\u001b[39m'\u001b[39;49m]]\u001b[39m.\u001b[39mvalue_counts()\n\u001b[0;32m      <a href='vscode-notebook-cell:/c%3A/Users/User3/OneDrive/Workspace/Cesar%20School/Python/Desafio%202/analise-dados-vacinacao.ipynb#X43sZmlsZQ%3D%3D?line=1'>2</a>\u001b[0m dfSinovac\n",
      "File \u001b[1;32mc:\\Users\\User3\\AppData\\Local\\Programs\\Python\\Python312\\Lib\\site-packages\\pandas\\core\\groupby\\generic.py:1961\u001b[0m, in \u001b[0;36mDataFrameGroupBy.__getitem__\u001b[1;34m(self, key)\u001b[0m\n\u001b[0;32m   1954\u001b[0m \u001b[39mif\u001b[39;00m \u001b[39misinstance\u001b[39m(key, \u001b[39mtuple\u001b[39m) \u001b[39mand\u001b[39;00m \u001b[39mlen\u001b[39m(key) \u001b[39m>\u001b[39m \u001b[39m1\u001b[39m:\n\u001b[0;32m   1955\u001b[0m     \u001b[39m# if len == 1, then it becomes a SeriesGroupBy and this is actually\u001b[39;00m\n\u001b[0;32m   1956\u001b[0m     \u001b[39m# valid syntax, so don't raise\u001b[39;00m\n\u001b[0;32m   1957\u001b[0m     \u001b[39mraise\u001b[39;00m \u001b[39mValueError\u001b[39;00m(\n\u001b[0;32m   1958\u001b[0m         \u001b[39m\"\u001b[39m\u001b[39mCannot subset columns with a tuple with more than one element. \u001b[39m\u001b[39m\"\u001b[39m\n\u001b[0;32m   1959\u001b[0m         \u001b[39m\"\u001b[39m\u001b[39mUse a list instead.\u001b[39m\u001b[39m\"\u001b[39m\n\u001b[0;32m   1960\u001b[0m     )\n\u001b[1;32m-> 1961\u001b[0m \u001b[39mreturn\u001b[39;00m \u001b[39msuper\u001b[39;49m()\u001b[39m.\u001b[39;49m\u001b[39m__getitem__\u001b[39;49m(key)\n",
      "File \u001b[1;32mc:\\Users\\User3\\AppData\\Local\\Programs\\Python\\Python312\\Lib\\site-packages\\pandas\\core\\base.py:239\u001b[0m, in \u001b[0;36mSelectionMixin.__getitem__\u001b[1;34m(self, key)\u001b[0m\n\u001b[0;32m    237\u001b[0m     \u001b[39mif\u001b[39;00m \u001b[39mlen\u001b[39m(\u001b[39mself\u001b[39m\u001b[39m.\u001b[39mobj\u001b[39m.\u001b[39mcolumns\u001b[39m.\u001b[39mintersection(key)) \u001b[39m!=\u001b[39m \u001b[39mlen\u001b[39m(\u001b[39mset\u001b[39m(key)):\n\u001b[0;32m    238\u001b[0m         bad_keys \u001b[39m=\u001b[39m \u001b[39mlist\u001b[39m(\u001b[39mset\u001b[39m(key)\u001b[39m.\u001b[39mdifference(\u001b[39mself\u001b[39m\u001b[39m.\u001b[39mobj\u001b[39m.\u001b[39mcolumns))\n\u001b[1;32m--> 239\u001b[0m         \u001b[39mraise\u001b[39;00m \u001b[39mKeyError\u001b[39;00m(\u001b[39mf\u001b[39m\u001b[39m\"\u001b[39m\u001b[39mColumns not found: \u001b[39m\u001b[39m{\u001b[39;00m\u001b[39mstr\u001b[39m(bad_keys)[\u001b[39m1\u001b[39m:\u001b[39m-\u001b[39m\u001b[39m1\u001b[39m]\u001b[39m}\u001b[39;00m\u001b[39m\"\u001b[39m)\n\u001b[0;32m    240\u001b[0m     \u001b[39mreturn\u001b[39;00m \u001b[39mself\u001b[39m\u001b[39m.\u001b[39m_gotitem(\u001b[39mlist\u001b[39m(key), ndim\u001b[39m=\u001b[39m\u001b[39m2\u001b[39m)\n\u001b[0;32m    242\u001b[0m \u001b[39melse\u001b[39;00m:\n",
      "\u001b[1;31mKeyError\u001b[0m: 'Columns not found: False'"
     ]
    }
   ],
   "source": [
    "# dfSinovac = tabela.groupby('municipio')[['vacina_fabricante' == '1 - CORONAVAC - SINOVAC (BUTANTAN)']].value_counts()\n",
    "# dfSinovac\n",
    "\n",
    "# pesquisar consulta por valor"
   ]
  },
  {
   "cell_type": "code",
   "execution_count": 39,
   "metadata": {},
   "outputs": [
    {
     "data": {
      "text/plain": [
       "municipio\n",
       "RECIFE                        2911861\n",
       "JABOATÃO DOS GUARARAPES         37912\n",
       "OLINDA                          33001\n",
       "PAULISTA                        23319\n",
       "CAMARAGIBE                      11843\n",
       "                               ...   \n",
       "JARDIM BRASIL                       1\n",
       "ARMAÇÃO DOS BÚZIOS                  1\n",
       "GOVERNADOR DIX-SEPT ROSADO          1\n",
       "ACARAPE                             1\n",
       "ITAMBE                              1\n",
       "Name: count, Length: 447, dtype: int64"
      ]
     },
     "execution_count": 39,
     "metadata": {},
     "output_type": "execute_result"
    }
   ],
   "source": [
    "dosesCinovacPorCidade = dfSinovac.groupby(\"municipio\").size()\n",
    "dosesCinovacPorCidade"
   ]
  },
  {
   "cell_type": "code",
   "execution_count": 9,
   "metadata": {},
   "outputs": [
    {
     "data": {
      "text/plain": [
       "municipio\n",
       "RECIFE      116\n",
       "OLINDA        3\n",
       "PAULISTA      1\n",
       "dtype: int64"
      ]
     },
     "execution_count": 9,
     "metadata": {},
     "output_type": "execute_result"
    }
   ],
   "source": [
    "cidadeComMaisDose = dosesCinovacPorCidade.sort_values(ascending=False)\n",
    "cidadeComMaisDose"
   ]
  },
  {
   "cell_type": "code",
   "execution_count": 10,
   "metadata": {},
   "outputs": [
    {
     "data": {
      "text/plain": [
       "'RECIFE'"
      ]
     },
     "execution_count": 10,
     "metadata": {},
     "output_type": "execute_result"
    }
   ],
   "source": [
    "cidadeComMaisDose.index[0]"
   ]
  },
  {
   "cell_type": "markdown",
   "metadata": {},
   "source": [
    "## Coluna tipo_faixa_etaria\n",
    " - Crianças: 3 a 12 anos\n",
    "\n",
    " - Adolescentes: 13 a 19 anos\n",
    "\n",
    " - Jovens adultos: 20 a 39 anos \n",
    "\n",
    " - Adultos de meia-idade: 40 a 59 anos \n",
    "\n",
    " - Idosos: 60 anos ou mais"
   ]
  },
  {
   "cell_type": "code",
   "execution_count": 26,
   "metadata": {},
   "outputs": [],
   "source": [
    "def getFaixaEtaria(idade):\n",
    "    if idade > 59:\n",
    "        return \"Idoso\"\n",
    "    elif idade > 39:\n",
    "        return \"Adulto de meia idade\"\n",
    "    elif idade > 39:\n",
    "        return \"Adulto de meia idade\"\n",
    "    elif idade > 19:\n",
    "        return \"Jovem Adulto\"\n",
    "    elif idade > 3:\n",
    "        return \"Criança\"\n",
    "    else:\n",
    "        return \"NA\""
   ]
  },
  {
   "cell_type": "code",
   "execution_count": 27,
   "metadata": {},
   "outputs": [
    {
     "data": {
      "text/html": [
       "<div>\n",
       "<style scoped>\n",
       "    .dataframe tbody tr th:only-of-type {\n",
       "        vertical-align: middle;\n",
       "    }\n",
       "\n",
       "    .dataframe tbody tr th {\n",
       "        vertical-align: top;\n",
       "    }\n",
       "\n",
       "    .dataframe thead th {\n",
       "        text-align: right;\n",
       "    }\n",
       "</style>\n",
       "<table border=\"1\" class=\"dataframe\">\n",
       "  <thead>\n",
       "    <tr style=\"text-align: right;\">\n",
       "      <th></th>\n",
       "      <th>_id</th>\n",
       "      <th>faixa_etaria</th>\n",
       "      <th>idade</th>\n",
       "      <th>sexo</th>\n",
       "      <th>raca_cor</th>\n",
       "      <th>municipio</th>\n",
       "      <th>grupo</th>\n",
       "      <th>categoria</th>\n",
       "      <th>lote</th>\n",
       "      <th>vacina_fabricante</th>\n",
       "      <th>descricao_dose</th>\n",
       "      <th>cnes</th>\n",
       "      <th>sistema_origem</th>\n",
       "      <th>data_vacinacao</th>\n",
       "      <th>regiao</th>\n",
       "    </tr>\n",
       "  </thead>\n",
       "  <tbody>\n",
       "    <tr>\n",
       "      <th>990</th>\n",
       "      <td>991</td>\n",
       "      <td>Idoso</td>\n",
       "      <td>64</td>\n",
       "      <td>FEMININO</td>\n",
       "      <td>BRANCA</td>\n",
       "      <td>RECIFE</td>\n",
       "      <td>IDOSOS</td>\n",
       "      <td>NaN</td>\n",
       "      <td>FM3802</td>\n",
       "      <td>3 - COMIRNATY (PFIZER)</td>\n",
       "      <td>3</td>\n",
       "      <td>DS 2: CNES: 6897029 - POLICLÍNICA SALOMÃO KELNER</td>\n",
       "      <td>Conecta Recife</td>\n",
       "      <td>2021-12-23T00:00:00</td>\n",
       "      <td>METROPOLITANA</td>\n",
       "    </tr>\n",
       "    <tr>\n",
       "      <th>991</th>\n",
       "      <td>992</td>\n",
       "      <td>Criança</td>\n",
       "      <td>12</td>\n",
       "      <td>FEMININO</td>\n",
       "      <td>PARDA</td>\n",
       "      <td>RECIFE</td>\n",
       "      <td>PÚBLICO EM GERAL - MENOR DE 18 ANOS</td>\n",
       "      <td>NaN</td>\n",
       "      <td>FM3457</td>\n",
       "      <td>3 - COMIRNATY (PFIZER)</td>\n",
       "      <td>2</td>\n",
       "      <td>DS 4: CNES: 0000639 - UBS JOAQUIM CAVALCANTE</td>\n",
       "      <td>Conecta Recife</td>\n",
       "      <td>2021-12-15T00:00:00</td>\n",
       "      <td>METROPOLITANA</td>\n",
       "    </tr>\n",
       "    <tr>\n",
       "      <th>992</th>\n",
       "      <td>993</td>\n",
       "      <td>Jovem Adulto</td>\n",
       "      <td>25</td>\n",
       "      <td>MASCULINO</td>\n",
       "      <td>AMARELA</td>\n",
       "      <td>JABOATÃO DOS GUARARAPES</td>\n",
       "      <td>TRABALHADORES DA LIMPEZA URBANA</td>\n",
       "      <td>NaN</td>\n",
       "      <td>FM3802</td>\n",
       "      <td>3 - COMIRNATY (PFIZER)</td>\n",
       "      <td>3</td>\n",
       "      <td>DS 3: CNES: 000612 - POLICLÍNICA ALBERT SABIN</td>\n",
       "      <td>Conecta Recife</td>\n",
       "      <td>2021-12-27T00:00:00</td>\n",
       "      <td>INTERIOR</td>\n",
       "    </tr>\n",
       "    <tr>\n",
       "      <th>993</th>\n",
       "      <td>994</td>\n",
       "      <td>Idoso</td>\n",
       "      <td>102</td>\n",
       "      <td>FEMININO</td>\n",
       "      <td>PARDA</td>\n",
       "      <td>RECIFE</td>\n",
       "      <td>IDOSOS</td>\n",
       "      <td>NaN</td>\n",
       "      <td>FM3802</td>\n",
       "      <td>3 - COMIRNATY (PFIZER)</td>\n",
       "      <td>3</td>\n",
       "      <td>DS 5: CNES: 000701 - MATERNIDADE BANDEIRA FILHO</td>\n",
       "      <td>Conecta Recife</td>\n",
       "      <td>2021-12-21T00:00:00</td>\n",
       "      <td>METROPOLITANA</td>\n",
       "    </tr>\n",
       "    <tr>\n",
       "      <th>994</th>\n",
       "      <td>995</td>\n",
       "      <td>Jovem Adulto</td>\n",
       "      <td>23</td>\n",
       "      <td>MASCULINO</td>\n",
       "      <td>PARDA</td>\n",
       "      <td>RECIFE</td>\n",
       "      <td>PÚBLICO EM GERAL (18 a 59 anos)</td>\n",
       "      <td>OUTRAS</td>\n",
       "      <td>FM3802</td>\n",
       "      <td>3 - COMIRNATY (PFIZER)</td>\n",
       "      <td>1</td>\n",
       "      <td>DS 5: CNES: 000701 - MATERNIDADE BANDEIRA FILHO</td>\n",
       "      <td>Conecta Recife</td>\n",
       "      <td>2021-12-18T00:00:00</td>\n",
       "      <td>METROPOLITANA</td>\n",
       "    </tr>\n",
       "    <tr>\n",
       "      <th>995</th>\n",
       "      <td>996</td>\n",
       "      <td>Idoso</td>\n",
       "      <td>61</td>\n",
       "      <td>FEMININO</td>\n",
       "      <td>BRANCA</td>\n",
       "      <td>OLINDA</td>\n",
       "      <td>TRABALHADORES DA SAÚDE</td>\n",
       "      <td>NaN</td>\n",
       "      <td>FH4751</td>\n",
       "      <td>3 - COMIRNATY (PFIZER)</td>\n",
       "      <td>3</td>\n",
       "      <td>DS 6: CNES: 0001392 - MIGUEL DE LIMA VALVERDE.</td>\n",
       "      <td>Conecta Recife</td>\n",
       "      <td>2021-11-30T00:00:00</td>\n",
       "      <td>METROPOLITANA</td>\n",
       "    </tr>\n",
       "    <tr>\n",
       "      <th>996</th>\n",
       "      <td>997</td>\n",
       "      <td>Jovem Adulto</td>\n",
       "      <td>27</td>\n",
       "      <td>FEMININO</td>\n",
       "      <td>PARDA</td>\n",
       "      <td>RECIFE</td>\n",
       "      <td>TRABALHADORES DA SAÚDE</td>\n",
       "      <td>NaN</td>\n",
       "      <td>FM3457</td>\n",
       "      <td>3 - COMIRNATY (PFIZER)</td>\n",
       "      <td>3</td>\n",
       "      <td>DS 8: CNES: 0001198 - UBT ARISTARCHO DE AZEVEDO</td>\n",
       "      <td>Conecta Recife</td>\n",
       "      <td>2021-12-07T00:00:00</td>\n",
       "      <td>METROPOLITANA</td>\n",
       "    </tr>\n",
       "    <tr>\n",
       "      <th>997</th>\n",
       "      <td>998</td>\n",
       "      <td>Idoso</td>\n",
       "      <td>65</td>\n",
       "      <td>FEMININO</td>\n",
       "      <td>PARDA</td>\n",
       "      <td>RECIFE</td>\n",
       "      <td>IDOSOS</td>\n",
       "      <td>NaN</td>\n",
       "      <td>FM3457</td>\n",
       "      <td>3 - COMIRNATY (PFIZER)</td>\n",
       "      <td>3</td>\n",
       "      <td>DS 6: CNES: 0001392 - MIGUEL DE LIMA VALVERDE.</td>\n",
       "      <td>Conecta Recife</td>\n",
       "      <td>2021-12-09T00:00:00</td>\n",
       "      <td>METROPOLITANA</td>\n",
       "    </tr>\n",
       "    <tr>\n",
       "      <th>998</th>\n",
       "      <td>999</td>\n",
       "      <td>Jovem Adulto</td>\n",
       "      <td>20</td>\n",
       "      <td>MASCULINO</td>\n",
       "      <td>BRANCA</td>\n",
       "      <td>RECIFE</td>\n",
       "      <td>PÚBLICO EM GERAL (18 a 59 anos)</td>\n",
       "      <td>NaN</td>\n",
       "      <td>FM3457</td>\n",
       "      <td>3 - COMIRNATY (PFIZER)</td>\n",
       "      <td>2</td>\n",
       "      <td>DS 6: CNES: 0001392 - MIGUEL DE LIMA VALVERDE.</td>\n",
       "      <td>Conecta Recife</td>\n",
       "      <td>2021-12-13T00:00:00</td>\n",
       "      <td>METROPOLITANA</td>\n",
       "    </tr>\n",
       "    <tr>\n",
       "      <th>999</th>\n",
       "      <td>1000</td>\n",
       "      <td>Idoso</td>\n",
       "      <td>64</td>\n",
       "      <td>FEMININO</td>\n",
       "      <td>BRANCA</td>\n",
       "      <td>RECIFE</td>\n",
       "      <td>IDOSOS</td>\n",
       "      <td>NaN</td>\n",
       "      <td>FM3457</td>\n",
       "      <td>3 - COMIRNATY (PFIZER)</td>\n",
       "      <td>3</td>\n",
       "      <td>DS 2: CNES: 6897029 - POLICLÍNICA SALOMÃO KELNER</td>\n",
       "      <td>Conecta Recife</td>\n",
       "      <td>2021-12-04T00:00:00</td>\n",
       "      <td>METROPOLITANA</td>\n",
       "    </tr>\n",
       "  </tbody>\n",
       "</table>\n",
       "</div>"
      ],
      "text/plain": [
       "      _id  faixa_etaria  idade       sexo raca_cor                municipio  \\\n",
       "990   991         Idoso     64   FEMININO   BRANCA                   RECIFE   \n",
       "991   992       Criança     12   FEMININO    PARDA                   RECIFE   \n",
       "992   993  Jovem Adulto     25  MASCULINO  AMARELA  JABOATÃO DOS GUARARAPES   \n",
       "993   994         Idoso    102   FEMININO    PARDA                   RECIFE   \n",
       "994   995  Jovem Adulto     23  MASCULINO    PARDA                   RECIFE   \n",
       "995   996         Idoso     61   FEMININO   BRANCA                   OLINDA   \n",
       "996   997  Jovem Adulto     27   FEMININO    PARDA                   RECIFE   \n",
       "997   998         Idoso     65   FEMININO    PARDA                   RECIFE   \n",
       "998   999  Jovem Adulto     20  MASCULINO   BRANCA                   RECIFE   \n",
       "999  1000         Idoso     64   FEMININO   BRANCA                   RECIFE   \n",
       "\n",
       "                                   grupo categoria    lote  \\\n",
       "990                               IDOSOS       NaN  FM3802   \n",
       "991  PÚBLICO EM GERAL - MENOR DE 18 ANOS       NaN  FM3457   \n",
       "992      TRABALHADORES DA LIMPEZA URBANA       NaN  FM3802   \n",
       "993                               IDOSOS       NaN  FM3802   \n",
       "994      PÚBLICO EM GERAL (18 a 59 anos)    OUTRAS  FM3802   \n",
       "995               TRABALHADORES DA SAÚDE       NaN  FH4751   \n",
       "996               TRABALHADORES DA SAÚDE       NaN  FM3457   \n",
       "997                               IDOSOS       NaN  FM3457   \n",
       "998      PÚBLICO EM GERAL (18 a 59 anos)       NaN  FM3457   \n",
       "999                               IDOSOS       NaN  FM3457   \n",
       "\n",
       "          vacina_fabricante  descricao_dose  \\\n",
       "990  3 - COMIRNATY (PFIZER)               3   \n",
       "991  3 - COMIRNATY (PFIZER)               2   \n",
       "992  3 - COMIRNATY (PFIZER)               3   \n",
       "993  3 - COMIRNATY (PFIZER)               3   \n",
       "994  3 - COMIRNATY (PFIZER)               1   \n",
       "995  3 - COMIRNATY (PFIZER)               3   \n",
       "996  3 - COMIRNATY (PFIZER)               3   \n",
       "997  3 - COMIRNATY (PFIZER)               3   \n",
       "998  3 - COMIRNATY (PFIZER)               2   \n",
       "999  3 - COMIRNATY (PFIZER)               3   \n",
       "\n",
       "                                                  cnes  sistema_origem  \\\n",
       "990  DS 2: CNES: 6897029 - POLICLÍNICA SALOMÃO KELNER   Conecta Recife   \n",
       "991       DS 4: CNES: 0000639 - UBS JOAQUIM CAVALCANTE  Conecta Recife   \n",
       "992      DS 3: CNES: 000612 - POLICLÍNICA ALBERT SABIN  Conecta Recife   \n",
       "993    DS 5: CNES: 000701 - MATERNIDADE BANDEIRA FILHO  Conecta Recife   \n",
       "994    DS 5: CNES: 000701 - MATERNIDADE BANDEIRA FILHO  Conecta Recife   \n",
       "995     DS 6: CNES: 0001392 - MIGUEL DE LIMA VALVERDE.  Conecta Recife   \n",
       "996    DS 8: CNES: 0001198 - UBT ARISTARCHO DE AZEVEDO  Conecta Recife   \n",
       "997     DS 6: CNES: 0001392 - MIGUEL DE LIMA VALVERDE.  Conecta Recife   \n",
       "998     DS 6: CNES: 0001392 - MIGUEL DE LIMA VALVERDE.  Conecta Recife   \n",
       "999  DS 2: CNES: 6897029 - POLICLÍNICA SALOMÃO KELNER   Conecta Recife   \n",
       "\n",
       "          data_vacinacao         regiao  \n",
       "990  2021-12-23T00:00:00  METROPOLITANA  \n",
       "991  2021-12-15T00:00:00  METROPOLITANA  \n",
       "992  2021-12-27T00:00:00       INTERIOR  \n",
       "993  2021-12-21T00:00:00  METROPOLITANA  \n",
       "994  2021-12-18T00:00:00  METROPOLITANA  \n",
       "995  2021-11-30T00:00:00  METROPOLITANA  \n",
       "996  2021-12-07T00:00:00  METROPOLITANA  \n",
       "997  2021-12-09T00:00:00  METROPOLITANA  \n",
       "998  2021-12-13T00:00:00  METROPOLITANA  \n",
       "999  2021-12-04T00:00:00  METROPOLITANA  "
      ]
     },
     "execution_count": 27,
     "metadata": {},
     "output_type": "execute_result"
    }
   ],
   "source": [
    "tabela_faixa_etaria = tabela\n",
    "tabela_faixa_etaria[\"faixa_etaria\"] = tabela_faixa_etaria['idade'].apply(lambda x:  getFaixaEtaria(x))\n",
    "tabela_faixa_etaria.tail(10)"
   ]
  },
  {
   "attachments": {
    "image.png": {
     "image/png": "[encoded data removed]"
    }
   },
   "cell_type": "markdown",
   "metadata": {},
   "source": [
    "![image.png](attachment:image.png)"
   ]
  },
  {
   "cell_type": "code",
   "execution_count": 28,
   "metadata": {},
   "outputs": [],
   "source": [
    "def getRegiao(municipio):\n",
    "    metropolitanas = ['RECIFE', 'JABOATAO DOS GUARARAPES','OLINDA', 'PAULISTA', 'CAMARAGIBE', 'SAO LOURENCO DA MATA', 'ABREU E LIMA', 'IGARASSU', 'CABO DE SANTO AGOSTINHO']\n",
    "\n",
    "    if municipio in metropolitanas:\n",
    "        return 'METROPOLITANA'\n",
    "    else:\n",
    "        return 'INTERIOR'"
   ]
  },
  {
   "cell_type": "code",
   "execution_count": 29,
   "metadata": {},
   "outputs": [
    {
     "data": {
      "text/html": [
       "<div>\n",
       "<style scoped>\n",
       "    .dataframe tbody tr th:only-of-type {\n",
       "        vertical-align: middle;\n",
       "    }\n",
       "\n",
       "    .dataframe tbody tr th {\n",
       "        vertical-align: top;\n",
       "    }\n",
       "\n",
       "    .dataframe thead th {\n",
       "        text-align: right;\n",
       "    }\n",
       "</style>\n",
       "<table border=\"1\" class=\"dataframe\">\n",
       "  <thead>\n",
       "    <tr style=\"text-align: right;\">\n",
       "      <th></th>\n",
       "      <th>_id</th>\n",
       "      <th>faixa_etaria</th>\n",
       "      <th>idade</th>\n",
       "      <th>sexo</th>\n",
       "      <th>raca_cor</th>\n",
       "      <th>municipio</th>\n",
       "      <th>grupo</th>\n",
       "      <th>categoria</th>\n",
       "      <th>lote</th>\n",
       "      <th>vacina_fabricante</th>\n",
       "      <th>descricao_dose</th>\n",
       "      <th>cnes</th>\n",
       "      <th>sistema_origem</th>\n",
       "      <th>data_vacinacao</th>\n",
       "      <th>regiao</th>\n",
       "    </tr>\n",
       "  </thead>\n",
       "  <tbody>\n",
       "    <tr>\n",
       "      <th>0</th>\n",
       "      <td>1</td>\n",
       "      <td>Jovem Adulto</td>\n",
       "      <td>24</td>\n",
       "      <td>FEMININO</td>\n",
       "      <td>BRANCA</td>\n",
       "      <td>RECIFE</td>\n",
       "      <td>TRABALHADORES DA SAÚDE</td>\n",
       "      <td>NaN</td>\n",
       "      <td>FM3457</td>\n",
       "      <td>3 - COMIRNATY (PFIZER)</td>\n",
       "      <td>3</td>\n",
       "      <td>DS 2: CNES: 6897029 - POLICLÍNICA SALOMÃO KELNER</td>\n",
       "      <td>Conecta Recife</td>\n",
       "      <td>2021-12-02T00:00:00</td>\n",
       "      <td>METROPOLITANA</td>\n",
       "    </tr>\n",
       "    <tr>\n",
       "      <th>1</th>\n",
       "      <td>2</td>\n",
       "      <td>Criança</td>\n",
       "      <td>17</td>\n",
       "      <td>MASCULINO</td>\n",
       "      <td>BRANCA</td>\n",
       "      <td>RECIFE</td>\n",
       "      <td>PÚBLICO EM GERAL - MENOR DE 18 ANOS</td>\n",
       "      <td>NaN</td>\n",
       "      <td>FM3802</td>\n",
       "      <td>3 - COMIRNATY (PFIZER)</td>\n",
       "      <td>2</td>\n",
       "      <td>DS 1: CNES: 000507 - POLICLÍNICA GOUVEIA DE BA...</td>\n",
       "      <td>Conecta Recife</td>\n",
       "      <td>2021-12-24T00:00:00</td>\n",
       "      <td>METROPOLITANA</td>\n",
       "    </tr>\n",
       "    <tr>\n",
       "      <th>2</th>\n",
       "      <td>3</td>\n",
       "      <td>Criança</td>\n",
       "      <td>18</td>\n",
       "      <td>MASCULINO</td>\n",
       "      <td>BRANCA</td>\n",
       "      <td>RECIFE</td>\n",
       "      <td>PÚBLICO EM GERAL (18 a 59 anos)</td>\n",
       "      <td>NaN</td>\n",
       "      <td>FM3457</td>\n",
       "      <td>3 - COMIRNATY (PFIZER)</td>\n",
       "      <td>1</td>\n",
       "      <td>DS 7: CNES: 0000647 - POLICLINICA CLEMENTINO F...</td>\n",
       "      <td>Conecta Recife</td>\n",
       "      <td>2021-12-03T00:00:00</td>\n",
       "      <td>METROPOLITANA</td>\n",
       "    </tr>\n",
       "    <tr>\n",
       "      <th>3</th>\n",
       "      <td>4</td>\n",
       "      <td>Jovem Adulto</td>\n",
       "      <td>25</td>\n",
       "      <td>FEMININO</td>\n",
       "      <td>BRANCA</td>\n",
       "      <td>RECIFE</td>\n",
       "      <td>PÚBLICO EM GERAL (18 a 59 anos)</td>\n",
       "      <td>NaN</td>\n",
       "      <td>FL4222</td>\n",
       "      <td>3 - COMIRNATY (PFIZER)</td>\n",
       "      <td>2</td>\n",
       "      <td>DS 3: CNES: 000612 - POLICLÍNICA ALBERT SABIN</td>\n",
       "      <td>Conecta Recife</td>\n",
       "      <td>2021-12-28T00:00:00</td>\n",
       "      <td>METROPOLITANA</td>\n",
       "    </tr>\n",
       "    <tr>\n",
       "      <th>4</th>\n",
       "      <td>5</td>\n",
       "      <td>Jovem Adulto</td>\n",
       "      <td>24</td>\n",
       "      <td>FEMININO</td>\n",
       "      <td>BRANCA</td>\n",
       "      <td>RECIFE</td>\n",
       "      <td>PÚBLICO EM GERAL (18 a 59 anos)</td>\n",
       "      <td>NaN</td>\n",
       "      <td>210378</td>\n",
       "      <td>1 - CORONAVAC - SINOVAC (BUTANTAN)</td>\n",
       "      <td>2</td>\n",
       "      <td>DS 8: CNES: 0001198 - UBT ARISTARCHO DE AZEVEDO</td>\n",
       "      <td>Conecta Recife</td>\n",
       "      <td>2021-11-30T00:00:00</td>\n",
       "      <td>METROPOLITANA</td>\n",
       "    </tr>\n",
       "    <tr>\n",
       "      <th>5</th>\n",
       "      <td>6</td>\n",
       "      <td>Jovem Adulto</td>\n",
       "      <td>25</td>\n",
       "      <td>FEMININO</td>\n",
       "      <td>BRANCA</td>\n",
       "      <td>OLINDA</td>\n",
       "      <td>TRABALHADORES DA SAÚDE</td>\n",
       "      <td>NaN</td>\n",
       "      <td>FM3457</td>\n",
       "      <td>3 - COMIRNATY (PFIZER)</td>\n",
       "      <td>3</td>\n",
       "      <td>DS 3: CNES: 000612 - POLICLÍNICA ALBERT SABIN</td>\n",
       "      <td>Conecta Recife</td>\n",
       "      <td>2021-12-03T00:00:00</td>\n",
       "      <td>METROPOLITANA</td>\n",
       "    </tr>\n",
       "    <tr>\n",
       "      <th>6</th>\n",
       "      <td>7</td>\n",
       "      <td>Jovem Adulto</td>\n",
       "      <td>26</td>\n",
       "      <td>MASCULINO</td>\n",
       "      <td>PARDA</td>\n",
       "      <td>RECIFE</td>\n",
       "      <td>PÚBLICO EM GERAL (18 a 59 anos)</td>\n",
       "      <td>NaN</td>\n",
       "      <td>FM3457</td>\n",
       "      <td>3 - COMIRNATY (PFIZER)</td>\n",
       "      <td>2</td>\n",
       "      <td>DS 1: CNES: 000507 - POLICLÍNICA GOUVEIA DE BA...</td>\n",
       "      <td>Conecta Recife</td>\n",
       "      <td>2021-12-03T00:00:00</td>\n",
       "      <td>METROPOLITANA</td>\n",
       "    </tr>\n",
       "    <tr>\n",
       "      <th>7</th>\n",
       "      <td>8</td>\n",
       "      <td>Criança</td>\n",
       "      <td>15</td>\n",
       "      <td>MASCULINO</td>\n",
       "      <td>BRANCA</td>\n",
       "      <td>RECIFE</td>\n",
       "      <td>PÚBLICO EM GERAL - MENOR DE 18 ANOS</td>\n",
       "      <td>NaN</td>\n",
       "      <td>FH4751</td>\n",
       "      <td>3 - COMIRNATY (PFIZER)</td>\n",
       "      <td>2</td>\n",
       "      <td>DS 3: CNES: 000612 - POLICLÍNICA ALBERT SABIN</td>\n",
       "      <td>Conecta Recife</td>\n",
       "      <td>2021-12-02T00:00:00</td>\n",
       "      <td>METROPOLITANA</td>\n",
       "    </tr>\n",
       "    <tr>\n",
       "      <th>8</th>\n",
       "      <td>9</td>\n",
       "      <td>Criança</td>\n",
       "      <td>14</td>\n",
       "      <td>FEMININO</td>\n",
       "      <td>PRETA</td>\n",
       "      <td>RECIFE</td>\n",
       "      <td>PÚBLICO EM GERAL - MENOR DE 18 ANOS</td>\n",
       "      <td>NaN</td>\n",
       "      <td>FM3802</td>\n",
       "      <td>3 - COMIRNATY (PFIZER)</td>\n",
       "      <td>2</td>\n",
       "      <td>DS 1: CNES: 000507 - POLICLÍNICA GOUVEIA DE BA...</td>\n",
       "      <td>Conecta Recife</td>\n",
       "      <td>2021-12-18T00:00:00</td>\n",
       "      <td>METROPOLITANA</td>\n",
       "    </tr>\n",
       "    <tr>\n",
       "      <th>9</th>\n",
       "      <td>10</td>\n",
       "      <td>Jovem Adulto</td>\n",
       "      <td>26</td>\n",
       "      <td>FEMININO</td>\n",
       "      <td>BRANCA</td>\n",
       "      <td>RECIFE</td>\n",
       "      <td>TRABALHADORES DA SAÚDE</td>\n",
       "      <td>NaN</td>\n",
       "      <td>FM3457</td>\n",
       "      <td>3 - COMIRNATY (PFIZER)</td>\n",
       "      <td>3</td>\n",
       "      <td>DS 1: CNES: 000507 - POLICLÍNICA GOUVEIA DE BA...</td>\n",
       "      <td>Conecta Recife</td>\n",
       "      <td>2021-12-11T00:00:00</td>\n",
       "      <td>METROPOLITANA</td>\n",
       "    </tr>\n",
       "  </tbody>\n",
       "</table>\n",
       "</div>"
      ],
      "text/plain": [
       "   _id  faixa_etaria  idade       sexo raca_cor municipio  \\\n",
       "0    1  Jovem Adulto     24   FEMININO   BRANCA    RECIFE   \n",
       "1    2       Criança     17  MASCULINO   BRANCA    RECIFE   \n",
       "2    3       Criança     18  MASCULINO   BRANCA    RECIFE   \n",
       "3    4  Jovem Adulto     25   FEMININO   BRANCA    RECIFE   \n",
       "4    5  Jovem Adulto     24   FEMININO   BRANCA    RECIFE   \n",
       "5    6  Jovem Adulto     25   FEMININO   BRANCA    OLINDA   \n",
       "6    7  Jovem Adulto     26  MASCULINO    PARDA    RECIFE   \n",
       "7    8       Criança     15  MASCULINO   BRANCA    RECIFE   \n",
       "8    9       Criança     14   FEMININO    PRETA    RECIFE   \n",
       "9   10  Jovem Adulto     26   FEMININO   BRANCA    RECIFE   \n",
       "\n",
       "                                 grupo categoria    lote  \\\n",
       "0               TRABALHADORES DA SAÚDE       NaN  FM3457   \n",
       "1  PÚBLICO EM GERAL - MENOR DE 18 ANOS       NaN  FM3802   \n",
       "2      PÚBLICO EM GERAL (18 a 59 anos)       NaN  FM3457   \n",
       "3      PÚBLICO EM GERAL (18 a 59 anos)       NaN  FL4222   \n",
       "4      PÚBLICO EM GERAL (18 a 59 anos)       NaN  210378   \n",
       "5               TRABALHADORES DA SAÚDE       NaN  FM3457   \n",
       "6      PÚBLICO EM GERAL (18 a 59 anos)       NaN  FM3457   \n",
       "7  PÚBLICO EM GERAL - MENOR DE 18 ANOS       NaN  FH4751   \n",
       "8  PÚBLICO EM GERAL - MENOR DE 18 ANOS       NaN  FM3802   \n",
       "9               TRABALHADORES DA SAÚDE       NaN  FM3457   \n",
       "\n",
       "                    vacina_fabricante  descricao_dose  \\\n",
       "0              3 - COMIRNATY (PFIZER)               3   \n",
       "1              3 - COMIRNATY (PFIZER)               2   \n",
       "2              3 - COMIRNATY (PFIZER)               1   \n",
       "3              3 - COMIRNATY (PFIZER)               2   \n",
       "4  1 - CORONAVAC - SINOVAC (BUTANTAN)               2   \n",
       "5              3 - COMIRNATY (PFIZER)               3   \n",
       "6              3 - COMIRNATY (PFIZER)               2   \n",
       "7              3 - COMIRNATY (PFIZER)               2   \n",
       "8              3 - COMIRNATY (PFIZER)               2   \n",
       "9              3 - COMIRNATY (PFIZER)               3   \n",
       "\n",
       "                                                cnes  sistema_origem  \\\n",
       "0  DS 2: CNES: 6897029 - POLICLÍNICA SALOMÃO KELNER   Conecta Recife   \n",
       "1  DS 1: CNES: 000507 - POLICLÍNICA GOUVEIA DE BA...  Conecta Recife   \n",
       "2  DS 7: CNES: 0000647 - POLICLINICA CLEMENTINO F...  Conecta Recife   \n",
       "3      DS 3: CNES: 000612 - POLICLÍNICA ALBERT SABIN  Conecta Recife   \n",
       "4    DS 8: CNES: 0001198 - UBT ARISTARCHO DE AZEVEDO  Conecta Recife   \n",
       "5      DS 3: CNES: 000612 - POLICLÍNICA ALBERT SABIN  Conecta Recife   \n",
       "6  DS 1: CNES: 000507 - POLICLÍNICA GOUVEIA DE BA...  Conecta Recife   \n",
       "7      DS 3: CNES: 000612 - POLICLÍNICA ALBERT SABIN  Conecta Recife   \n",
       "8  DS 1: CNES: 000507 - POLICLÍNICA GOUVEIA DE BA...  Conecta Recife   \n",
       "9  DS 1: CNES: 000507 - POLICLÍNICA GOUVEIA DE BA...  Conecta Recife   \n",
       "\n",
       "        data_vacinacao         regiao  \n",
       "0  2021-12-02T00:00:00  METROPOLITANA  \n",
       "1  2021-12-24T00:00:00  METROPOLITANA  \n",
       "2  2021-12-03T00:00:00  METROPOLITANA  \n",
       "3  2021-12-28T00:00:00  METROPOLITANA  \n",
       "4  2021-11-30T00:00:00  METROPOLITANA  \n",
       "5  2021-12-03T00:00:00  METROPOLITANA  \n",
       "6  2021-12-03T00:00:00  METROPOLITANA  \n",
       "7  2021-12-02T00:00:00  METROPOLITANA  \n",
       "8  2021-12-18T00:00:00  METROPOLITANA  \n",
       "9  2021-12-11T00:00:00  METROPOLITANA  "
      ]
     },
     "execution_count": 29,
     "metadata": {},
     "output_type": "execute_result"
    }
   ],
   "source": [
    "tabela_regiao = tabela\n",
    "tabela_regiao['regiao'] = tabela_regiao['municipio'].apply(lambda x: getRegiao(x))\n",
    "tabela_regiao.head(10)"
   ]
  },
  {
   "cell_type": "code",
   "execution_count": 30,
   "metadata": {},
   "outputs": [
    {
     "data": {
      "text/plain": [
       "regiao\n",
       "METROPOLITANA    976\n",
       "INTERIOR          24\n",
       "Name: count, dtype: int64"
      ]
     },
     "execution_count": 30,
     "metadata": {},
     "output_type": "execute_result"
    }
   ],
   "source": [
    "tabela_regiao['regiao'].value_counts()"
   ]
  },
  {
   "attachments": {
    "image.png": {
     "image/png": "[encoded data removed]"
    }
   },
   "cell_type": "markdown",
   "metadata": {},
   "source": [
    "![image.png](attachment:image.png)"
   ]
  },
  {
   "cell_type": "code",
   "execution_count": 33,
   "metadata": {},
   "outputs": [
    {
     "data": {
      "text/plain": [
       "regiao         faixa_etaria        \n",
       "INTERIOR       Jovem Adulto             23\n",
       "               Adulto de meia idade      1\n",
       "METROPOLITANA  Jovem Adulto            681\n",
       "               Criança                 173\n",
       "               Idoso                   106\n",
       "               Adulto de meia idade     16\n",
       "Name: count, dtype: int64"
      ]
     },
     "execution_count": 33,
     "metadata": {},
     "output_type": "execute_result"
    }
   ],
   "source": [
    "tabela_regiao[['regiao', 'faixa_etaria']].groupby('regiao')['faixa_etaria'].value_counts()"
   ]
  },
  {
   "attachments": {
    "image.png": {
     "image/png": "[encoded data removed]"
    }
   },
   "cell_type": "markdown",
   "metadata": {},
   "source": [
    "![image.png](attachment:image.png)"
   ]
  },
  {
   "cell_type": "code",
   "execution_count": 39,
   "metadata": {},
   "outputs": [
    {
     "data": {
      "text/html": [
       "<div>\n",
       "<style scoped>\n",
       "    .dataframe tbody tr th:only-of-type {\n",
       "        vertical-align: middle;\n",
       "    }\n",
       "\n",
       "    .dataframe tbody tr th {\n",
       "        vertical-align: top;\n",
       "    }\n",
       "\n",
       "    .dataframe thead th {\n",
       "        text-align: right;\n",
       "    }\n",
       "</style>\n",
       "<table border=\"1\" class=\"dataframe\">\n",
       "  <thead>\n",
       "    <tr style=\"text-align: right;\">\n",
       "      <th></th>\n",
       "      <th>regiao</th>\n",
       "      <th>faixa_etaria</th>\n",
       "      <th>idade_media</th>\n",
       "    </tr>\n",
       "  </thead>\n",
       "  <tbody>\n",
       "    <tr>\n",
       "      <th>0</th>\n",
       "      <td>INTERIOR</td>\n",
       "      <td>Adulto de meia idade</td>\n",
       "      <td>53.000000</td>\n",
       "    </tr>\n",
       "    <tr>\n",
       "      <th>1</th>\n",
       "      <td>INTERIOR</td>\n",
       "      <td>Jovem Adulto</td>\n",
       "      <td>25.043478</td>\n",
       "    </tr>\n",
       "    <tr>\n",
       "      <th>2</th>\n",
       "      <td>METROPOLITANA</td>\n",
       "      <td>Adulto de meia idade</td>\n",
       "      <td>51.125000</td>\n",
       "    </tr>\n",
       "    <tr>\n",
       "      <th>3</th>\n",
       "      <td>METROPOLITANA</td>\n",
       "      <td>Criança</td>\n",
       "      <td>15.057803</td>\n",
       "    </tr>\n",
       "    <tr>\n",
       "      <th>4</th>\n",
       "      <td>METROPOLITANA</td>\n",
       "      <td>Idoso</td>\n",
       "      <td>70.169811</td>\n",
       "    </tr>\n",
       "    <tr>\n",
       "      <th>5</th>\n",
       "      <td>METROPOLITANA</td>\n",
       "      <td>Jovem Adulto</td>\n",
       "      <td>25.478708</td>\n",
       "    </tr>\n",
       "  </tbody>\n",
       "</table>\n",
       "</div>"
      ],
      "text/plain": [
       "          regiao          faixa_etaria  idade_media\n",
       "0       INTERIOR  Adulto de meia idade    53.000000\n",
       "1       INTERIOR          Jovem Adulto    25.043478\n",
       "2  METROPOLITANA  Adulto de meia idade    51.125000\n",
       "3  METROPOLITANA               Criança    15.057803\n",
       "4  METROPOLITANA                 Idoso    70.169811\n",
       "5  METROPOLITANA          Jovem Adulto    25.478708"
      ]
     },
     "execution_count": 39,
     "metadata": {},
     "output_type": "execute_result"
    }
   ],
   "source": [
    "tabela_regiao.groupby(['regiao', 'faixa_etaria'])['idade'].mean().reset_index(name='idade_media')"
   ]
  },
  {
   "attachments": {
    "image.png": {
     "image/png": "[encoded data removed]"
    }
   },
   "cell_type": "markdown",
   "metadata": {},
   "source": [
    "![image.png](attachment:image.png)"
   ]
  },
  {
   "cell_type": "code",
   "execution_count": 83,
   "metadata": {},
   "outputs": [
    {
     "data": {
      "text/plain": [
       "regiao         faixa_etaria          vacina_fabricante                                \n",
       "INTERIOR       Jovem Adulto          3 - COMIRNATY (PFIZER)                                22\n",
       "               Adulto de meia idade  3 - COMIRNATY (PFIZER)                                 1\n",
       "               Jovem Adulto          2 - CHADOX1NCOV-19 - OXFORD/ASTRAZENECA (FIOCRUZ)      1\n",
       "METROPOLITANA  Jovem Adulto          3 - COMIRNATY (PFIZER)                               540\n",
       "               Criança               3 - COMIRNATY (PFIZER)                               168\n",
       "               Jovem Adulto          1 - CORONAVAC - SINOVAC (BUTANTAN)                   114\n",
       "               Idoso                 3 - COMIRNATY (PFIZER)                               105\n",
       "               Jovem Adulto          2 - CHADOX1NCOV-19 - OXFORD/ASTRAZENECA (FIOCRUZ)     17\n",
       "               Adulto de meia idade  3 - COMIRNATY (PFIZER)                                11\n",
       "               Jovem Adulto          4 - JANSSEN COVID-19 VACCINE (JOHNSON & JOHNSON)      10\n",
       "               Adulto de meia idade  4 - JANSSEN COVID-19 VACCINE (JOHNSON & JOHNSON)       5\n",
       "               Criança               1 - CORONAVAC - SINOVAC (BUTANTAN)                     5\n",
       "               Idoso                 1 - CORONAVAC - SINOVAC (BUTANTAN)                     1\n",
       "Name: count, dtype: int64"
      ]
     },
     "execution_count": 83,
     "metadata": {},
     "output_type": "execute_result"
    }
   ],
   "source": [
    "tabela_regiao.groupby(['regiao'])[['faixa_etaria', 'vacina_fabricante' ]].value_counts()"
   ]
  },
  {
   "cell_type": "code",
   "execution_count": 69,
   "metadata": {},
   "outputs": [
    {
     "data": {
      "text/html": [
       "<div>\n",
       "<style scoped>\n",
       "    .dataframe tbody tr th:only-of-type {\n",
       "        vertical-align: middle;\n",
       "    }\n",
       "\n",
       "    .dataframe tbody tr th {\n",
       "        vertical-align: top;\n",
       "    }\n",
       "\n",
       "    .dataframe thead th {\n",
       "        text-align: right;\n",
       "    }\n",
       "</style>\n",
       "<table border=\"1\" class=\"dataframe\">\n",
       "  <thead>\n",
       "    <tr style=\"text-align: right;\">\n",
       "      <th></th>\n",
       "      <th></th>\n",
       "      <th>vacina_fabricante</th>\n",
       "    </tr>\n",
       "    <tr>\n",
       "      <th>regiao</th>\n",
       "      <th>faixa_etaria</th>\n",
       "      <th></th>\n",
       "    </tr>\n",
       "  </thead>\n",
       "  <tbody>\n",
       "    <tr>\n",
       "      <th rowspan=\"2\" valign=\"top\">INTERIOR</th>\n",
       "      <th>Adulto de meia idade</th>\n",
       "      <td>3 - COMIRNATY (PFIZER)</td>\n",
       "    </tr>\n",
       "    <tr>\n",
       "      <th>Jovem Adulto</th>\n",
       "      <td>3 - COMIRNATY (PFIZER)</td>\n",
       "    </tr>\n",
       "    <tr>\n",
       "      <th rowspan=\"4\" valign=\"top\">METROPOLITANA</th>\n",
       "      <th>Adulto de meia idade</th>\n",
       "      <td>4 - JANSSEN COVID-19 VACCINE (JOHNSON &amp; JOHNSON)</td>\n",
       "    </tr>\n",
       "    <tr>\n",
       "      <th>Criança</th>\n",
       "      <td>3 - COMIRNATY (PFIZER)</td>\n",
       "    </tr>\n",
       "    <tr>\n",
       "      <th>Idoso</th>\n",
       "      <td>3 - COMIRNATY (PFIZER)</td>\n",
       "    </tr>\n",
       "    <tr>\n",
       "      <th>Jovem Adulto</th>\n",
       "      <td>4 - JANSSEN COVID-19 VACCINE (JOHNSON &amp; JOHNSON)</td>\n",
       "    </tr>\n",
       "  </tbody>\n",
       "</table>\n",
       "</div>"
      ],
      "text/plain": [
       "                                                                   vacina_fabricante\n",
       "regiao        faixa_etaria                                                          \n",
       "INTERIOR      Adulto de meia idade                            3 - COMIRNATY (PFIZER)\n",
       "              Jovem Adulto                                    3 - COMIRNATY (PFIZER)\n",
       "METROPOLITANA Adulto de meia idade  4 - JANSSEN COVID-19 VACCINE (JOHNSON & JOHNSON)\n",
       "              Criança                                         3 - COMIRNATY (PFIZER)\n",
       "              Idoso                                           3 - COMIRNATY (PFIZER)\n",
       "              Jovem Adulto          4 - JANSSEN COVID-19 VACCINE (JOHNSON & JOHNSON)"
      ]
     },
     "execution_count": 69,
     "metadata": {},
     "output_type": "execute_result"
    }
   ],
   "source": [
    "tabela_regiao.groupby(['regiao', 'faixa_etaria']).agg({\n",
    " 'vacina_fabricante': 'max'   \n",
    "})"
   ]
  },
  {
   "attachments": {
    "image.png": {
     "image/png": "[encoded data removed]"
    }
   },
   "cell_type": "markdown",
   "metadata": {},
   "source": [
    "![image.png](attachment:image.png)"
   ]
  },
  {
   "cell_type": "code",
   "execution_count": 80,
   "metadata": {},
   "outputs": [
    {
     "data": {
      "text/plain": [
       "regiao         faixa_etaria          sexo     \n",
       "INTERIOR       Adulto de meia idade  FEMININO       1\n",
       "               Jovem Adulto          FEMININO      14\n",
       "                                     MASCULINO      9\n",
       "METROPOLITANA  Adulto de meia idade  FEMININO       8\n",
       "                                     MASCULINO      8\n",
       "               Criança               MASCULINO     88\n",
       "                                     FEMININO      85\n",
       "               Idoso                 FEMININO      60\n",
       "                                     MASCULINO     46\n",
       "               Jovem Adulto          FEMININO     373\n",
       "                                     MASCULINO    308\n",
       "Name: count, dtype: int64"
      ]
     },
     "execution_count": 80,
     "metadata": {},
     "output_type": "execute_result"
    }
   ],
   "source": [
    "tabela_regiao.groupby(['regiao', 'faixa_etaria'])['sexo'].value_counts()"
   ]
  }
 ],
 "metadata": {
  "kernelspec": {
   "display_name": "Python 3",
   "language": "python",
   "name": "python3"
  },
  "language_info": {
   "codemirror_mode": {
    "name": "ipython",
    "version": 3
   },
   "file_extension": ".py",
   "mimetype": "text/x-python",
   "name": "python",
   "nbconvert_exporter": "python",
   "pygments_lexer": "ipython3",
   "version": "3.12.0"
  }
 },
 "nbformat": 4,
 "nbformat_minor": 2
}
